{
 "cells": [
  {
   "cell_type": "code",
   "execution_count": 1,
   "metadata": {},
   "outputs": [],
   "source": [
    "#!pip install pyDataverse"
   ]
  },
  {
   "cell_type": "code",
   "execution_count": 2,
   "metadata": {},
   "outputs": [],
   "source": [
    "# FIXME: workaround to make it work on cluster server.\n",
    "import sys\n",
    "sys.path.append('/home/t-9adar/.conda/envs/env38/lib/python3.8/site-packages')"
   ]
  },
  {
   "cell_type": "code",
   "execution_count": 3,
   "metadata": {},
   "outputs": [],
   "source": [
    "# Dataverse API Token\n",
    "# https://dataverse.harvard.edu/dataverseuser.xhtml?selectTab=apiTokenTab\n",
    "host = 'https://dataverse.harvard.edu'\n",
    "token = '<API TOKEN>'\n",
    "doi = 'doi:10.7910/DVN/MUEGDT'"
   ]
  },
  {
   "cell_type": "code",
   "execution_count": 4,
   "metadata": {},
   "outputs": [],
   "source": [
    "from pyDataverse.api import Api"
   ]
  },
  {
   "cell_type": "code",
   "execution_count": 5,
   "metadata": {},
   "outputs": [
    {
     "data": {
      "text/plain": [
       "'OK'"
      ]
     },
     "execution_count": 5,
     "metadata": {},
     "output_type": "execute_result"
    }
   ],
   "source": [
    "api = Api('https://dataverse.harvard.edu/', token)\n",
    "api.status"
   ]
  },
  {
   "cell_type": "code",
   "execution_count": 6,
   "metadata": {},
   "outputs": [
    {
     "data": {
      "text/plain": [
       "{'status': 'ERROR', 'message': 'Bad api key '}"
      ]
     },
     "execution_count": 6,
     "metadata": {},
     "output_type": "execute_result"
    }
   ],
   "source": [
    "resp = api.get_dataset(doi)\n",
    "resp.json()"
   ]
  },
  {
   "cell_type": "code",
   "execution_count": 7,
   "metadata": {},
   "outputs": [
    {
     "name": "stdout",
     "output_type": "stream",
     "text": [
      "/share/svasudevan2lab/gs-delhi/parse_unsearchable_rolls/data/out/kerala_2015.csv.gz\n",
      "{'status': 'ERROR', 'message': 'The API key is invalid.'}\n"
     ]
    }
   ],
   "source": [
    "from glob import glob\n",
    "\n",
    "for fn in glob('/share/svasudevan2lab/gs-delhi/parse_unsearchable_rolls/data/out/kerala_2015.csv.gz'):\n",
    "    print(fn)\n",
    "    resp = api.upload_file(doi, fn)\n",
    "    print(resp)"
   ]
  },
  {
   "cell_type": "code",
   "execution_count": null,
   "metadata": {},
   "outputs": [],
   "source": []
  }
 ],
 "metadata": {
  "kernelspec": {
   "display_name": "Python 3",
   "language": "python",
   "name": "python3"
  },
  "language_info": {
   "codemirror_mode": {
    "name": "ipython",
    "version": 3
   },
   "file_extension": ".py",
   "mimetype": "text/x-python",
   "name": "python",
   "nbconvert_exporter": "python",
   "pygments_lexer": "ipython3",
   "version": "3.8.5"
  }
 },
 "nbformat": 4,
 "nbformat_minor": 4
}
